{
 "cells": [
  {
   "cell_type": "code",
   "execution_count": 1,
   "id": "ce773ed4",
   "metadata": {},
   "outputs": [
    {
     "name": "stdout",
     "output_type": "stream",
     "text": [
      "Collecting sentence-transformers\n",
      "  Downloading sentence-transformers-2.2.2.tar.gz (85 kB)\n",
      "\u001b[2K     \u001b[90m━━━━━━━━━━━━━━━━━━━━━━━━━━━━━━━━━━━━━━━━\u001b[0m \u001b[32m86.0/86.0 kB\u001b[0m \u001b[31m1.2 MB/s\u001b[0m eta \u001b[36m0:00:00\u001b[0ma \u001b[36m0:00:01\u001b[0m\n",
      "\u001b[?25h  Preparing metadata (setup.py) ... \u001b[?25ldone\n",
      "\u001b[?25hCollecting transformers<5.0.0,>=4.6.0\n",
      "  Downloading transformers-4.24.0-py3-none-any.whl (5.5 MB)\n",
      "\u001b[2K     \u001b[90m━━━━━━━━━━━━━━━━━━━━━━━━━━━━━━━━━━━━━━━━\u001b[0m \u001b[32m5.5/5.5 MB\u001b[0m \u001b[31m769.1 kB/s\u001b[0m eta \u001b[36m0:00:00\u001b[0m00:01\u001b[0m00:01\u001b[0m\n",
      "\u001b[?25hRequirement already satisfied: tqdm in /Users/saivarunreddybhavanam/miniforge3/envs/data-science/lib/python3.9/site-packages (from sentence-transformers) (4.62.3)\n",
      "Requirement already satisfied: torch>=1.6.0 in /Users/saivarunreddybhavanam/miniforge3/envs/data-science/lib/python3.9/site-packages (from sentence-transformers) (1.10.1)\n",
      "Collecting torchvision\n",
      "  Downloading torchvision-0.14.0-cp39-cp39-macosx_11_0_arm64.whl (1.3 MB)\n",
      "\u001b[2K     \u001b[90m━━━━━━━━━━━━━━━━━━━━━━━━━━━━━━━━━━━━━━━━\u001b[0m \u001b[32m1.3/1.3 MB\u001b[0m \u001b[31m304.1 kB/s\u001b[0m eta \u001b[36m0:00:00\u001b[0m00:01\u001b[0m00:01\u001b[0m\n",
      "\u001b[?25hRequirement already satisfied: numpy in /Users/saivarunreddybhavanam/miniforge3/envs/data-science/lib/python3.9/site-packages (from sentence-transformers) (1.22.1)\n",
      "Requirement already satisfied: scikit-learn in /Users/saivarunreddybhavanam/miniforge3/envs/data-science/lib/python3.9/site-packages (from sentence-transformers) (1.0.2)\n",
      "Requirement already satisfied: scipy in /Users/saivarunreddybhavanam/miniforge3/envs/data-science/lib/python3.9/site-packages (from sentence-transformers) (1.7.3)\n",
      "Requirement already satisfied: nltk in /Users/saivarunreddybhavanam/miniforge3/envs/data-science/lib/python3.9/site-packages (from sentence-transformers) (3.6.7)\n",
      "Collecting sentencepiece\n",
      "  Downloading sentencepiece-0.1.97-cp39-cp39-macosx_11_0_arm64.whl (1.1 MB)\n",
      "\u001b[2K     \u001b[90m━━━━━━━━━━━━━━━━━━━━━━━━━━━━━━━━━━━━━━━━\u001b[0m \u001b[32m1.1/1.1 MB\u001b[0m \u001b[31m361.1 kB/s\u001b[0m eta \u001b[36m0:00:00\u001b[0m00:01\u001b[0m00:01\u001b[0m\n",
      "\u001b[?25hCollecting huggingface-hub>=0.4.0\n",
      "  Downloading huggingface_hub-0.10.1-py3-none-any.whl (163 kB)\n",
      "\u001b[2K     \u001b[90m━━━━━━━━━━━━━━━━━━━━━━━━━━━━━━━━━━━━━\u001b[0m \u001b[32m163.5/163.5 kB\u001b[0m \u001b[31m424.9 kB/s\u001b[0m eta \u001b[36m0:00:00\u001b[0ma \u001b[36m0:00:01\u001b[0m\n",
      "\u001b[?25hCollecting filelock\n",
      "  Downloading filelock-3.8.0-py3-none-any.whl (10 kB)\n",
      "Requirement already satisfied: typing-extensions>=3.7.4.3 in /Users/saivarunreddybhavanam/miniforge3/envs/data-science/lib/python3.9/site-packages (from huggingface-hub>=0.4.0->sentence-transformers) (4.0.1)\n",
      "Collecting pyyaml>=5.1\n",
      "  Using cached PyYAML-6.0-cp39-cp39-macosx_11_0_arm64.whl (173 kB)\n",
      "Requirement already satisfied: packaging>=20.9 in /Users/saivarunreddybhavanam/miniforge3/envs/data-science/lib/python3.9/site-packages (from huggingface-hub>=0.4.0->sentence-transformers) (21.3)\n",
      "Requirement already satisfied: requests in /Users/saivarunreddybhavanam/miniforge3/envs/data-science/lib/python3.9/site-packages (from huggingface-hub>=0.4.0->sentence-transformers) (2.27.1)\n",
      "Requirement already satisfied: tokenizers!=0.11.3,<0.14,>=0.11.1 in /Users/saivarunreddybhavanam/miniforge3/envs/data-science/lib/python3.9/site-packages (from transformers<5.0.0,>=4.6.0->sentence-transformers) (0.11.5)\n",
      "Requirement already satisfied: regex!=2019.12.17 in /Users/saivarunreddybhavanam/miniforge3/envs/data-science/lib/python3.9/site-packages (from transformers<5.0.0,>=4.6.0->sentence-transformers) (2022.1.18)\n",
      "Requirement already satisfied: click in /Users/saivarunreddybhavanam/miniforge3/envs/data-science/lib/python3.9/site-packages (from nltk->sentence-transformers) (8.0.3)\n",
      "Requirement already satisfied: joblib in /Users/saivarunreddybhavanam/miniforge3/envs/data-science/lib/python3.9/site-packages (from nltk->sentence-transformers) (1.1.0)\n",
      "Requirement already satisfied: threadpoolctl>=2.0.0 in /Users/saivarunreddybhavanam/miniforge3/envs/data-science/lib/python3.9/site-packages (from scikit-learn->sentence-transformers) (3.0.0)\n",
      "Requirement already satisfied: pillow!=8.3.*,>=5.3.0 in /Users/saivarunreddybhavanam/miniforge3/envs/data-science/lib/python3.9/site-packages (from torchvision->sentence-transformers) (9.0.0)\n",
      "Requirement already satisfied: pyparsing!=3.0.5,>=2.0.2 in /Users/saivarunreddybhavanam/miniforge3/envs/data-science/lib/python3.9/site-packages (from packaging>=20.9->huggingface-hub>=0.4.0->sentence-transformers) (3.0.6)\n",
      "Requirement already satisfied: idna<4,>=2.5 in /Users/saivarunreddybhavanam/miniforge3/envs/data-science/lib/python3.9/site-packages (from requests->huggingface-hub>=0.4.0->sentence-transformers) (3.1)\n",
      "Requirement already satisfied: urllib3<1.27,>=1.21.1 in /Users/saivarunreddybhavanam/miniforge3/envs/data-science/lib/python3.9/site-packages (from requests->huggingface-hub>=0.4.0->sentence-transformers) (1.26.8)\n",
      "Requirement already satisfied: charset-normalizer~=2.0.0 in /Users/saivarunreddybhavanam/miniforge3/envs/data-science/lib/python3.9/site-packages (from requests->huggingface-hub>=0.4.0->sentence-transformers) (2.0.10)\n",
      "Requirement already satisfied: certifi>=2017.4.17 in /Users/saivarunreddybhavanam/miniforge3/envs/data-science/lib/python3.9/site-packages (from requests->huggingface-hub>=0.4.0->sentence-transformers) (2021.10.8)\n",
      "Building wheels for collected packages: sentence-transformers\n",
      "  Building wheel for sentence-transformers (setup.py) ... \u001b[?25ldone\n",
      "\u001b[?25h  Created wheel for sentence-transformers: filename=sentence_transformers-2.2.2-py3-none-any.whl size=125937 sha256=7bfee99127592e2ecf8f6d863d091d838840c954a94ac064c5d02787d2e88f6e\n",
      "  Stored in directory: /Users/saivarunreddybhavanam/Library/Caches/pip/wheels/4b/68/65/aba8be86302d9988b832f5e1f3417a87e4a868d396e4329f0a\n",
      "Successfully built sentence-transformers\n",
      "Installing collected packages: sentencepiece, pyyaml, filelock, torchvision, huggingface-hub, transformers, sentence-transformers\n",
      "Successfully installed filelock-3.8.0 huggingface-hub-0.10.1 pyyaml-6.0 sentence-transformers-2.2.2 sentencepiece-0.1.97 torchvision-0.14.0 transformers-4.24.0\n"
     ]
    }
   ],
   "source": [
    "!pip3 install sentence-transformers"
   ]
  },
  {
   "cell_type": "code",
   "execution_count": 4,
   "id": "ec30bcb4",
   "metadata": {},
   "outputs": [
    {
     "data": {
      "application/vnd.jupyter.widget-view+json": {
       "model_id": "930c13c576a54032b42832fc850339ec",
       "version_major": 2,
       "version_minor": 0
      },
      "text/plain": [
       "Downloading:   0%|          | 0.00/1.88G [00:00<?, ?B/s]"
      ]
     },
     "metadata": {},
     "output_type": "display_data"
    },
    {
     "data": {
      "application/vnd.jupyter.widget-view+json": {
       "model_id": "4c386d79a297450cabbd1b61e75613a5",
       "version_major": 2,
       "version_minor": 0
      },
      "text/plain": [
       "Downloading:   0%|          | 0.00/9.62M [00:00<?, ?B/s]"
      ]
     },
     "metadata": {},
     "output_type": "display_data"
    },
    {
     "data": {
      "application/vnd.jupyter.widget-view+json": {
       "model_id": "a92355ebc80c4f2088312db1484fc66a",
       "version_major": 2,
       "version_minor": 0
      },
      "text/plain": [
       "Downloading:   0%|          | 0.00/411 [00:00<?, ?B/s]"
      ]
     },
     "metadata": {},
     "output_type": "display_data"
    }
   ],
   "source": [
    "from sentence_transformers import SentenceTransformer\n",
    "from sklearn.metrics.pairwise import cosine_similarity\n",
    "model = SentenceTransformer('sentence-transformers/LaBSE')\n",
    "import codecs\n",
    "import numpy as np\n",
    "arr= []\n",
    "\n",
    "f = codecs.open(\"English_100000.txt\", \"r\", \"utf-8\")\n",
    "englishSentences = f.readlines()\n",
    "f.close()\n",
    "\n",
    "g = codecs.open(\"Telugu_100000.txt\", \"r\", \"utf-8\")\n",
    "teluguSentences = g.readlines()\n",
    "g.close()\n",
    "\n",
    "teluguSentencesSmallerSet = []\n",
    "englishSentencesSmallerSet = []\n",
    "\n",
    "i = 0\n",
    "while i < 100000:\n",
    "    teluguSentencesSmallerSet.append(teluguSentences[i])\n",
    "    englishSentencesSmallerSet.append(englishSentences[i])\n",
    "    i += 1\n",
    "\n",
    "#print(teluguSentencesSmallerSet)\n",
    "#print(englishSentencesSmallerSet)\n",
    "\n",
    "\n",
    "\n"
   ]
  },
  {
   "cell_type": "code",
   "execution_count": 5,
   "id": "d2ea9826",
   "metadata": {},
   "outputs": [
    {
     "data": {
      "text/plain": [
       "100000"
      ]
     },
     "execution_count": 5,
     "metadata": {},
     "output_type": "execute_result"
    }
   ],
   "source": [
    "len (teluguSentencesSmallerSet)"
   ]
  },
  {
   "cell_type": "code",
   "execution_count": 6,
   "id": "94424c88",
   "metadata": {
    "scrolled": true
   },
   "outputs": [
    {
     "name": "stdout",
     "output_type": "stream",
     "text": [
      "100000\n",
      "done\n"
     ]
    }
   ],
   "source": [
    "similarityScores = []\n",
    "n = len(teluguSentences)\n",
    "print(n)\n",
    "for i in range(0,n):\n",
    "    l1 = teluguSentencesSmallerSet[i]\n",
    "    l2 = englishSentencesSmallerSet[i]\n",
    "    \n",
    "    emb1 = model.encode([l1])[0].reshape(1,-1)\n",
    "    \n",
    "    emb2 = model.encode([l2])[0].reshape(1,-1)\n",
    "    \n",
    "    score = cosine_similarity(emb1, emb2)[0,0]\n",
    "    similarityScores.append(score)\n",
    "print(\"done\")"
   ]
  },
  {
   "cell_type": "code",
   "execution_count": 7,
   "id": "5af883ee",
   "metadata": {},
   "outputs": [
    {
     "data": {
      "text/plain": [
       "100000"
      ]
     },
     "execution_count": 7,
     "metadata": {},
     "output_type": "execute_result"
    }
   ],
   "source": [
    "len(similarityScores) #Batch size en-hi"
   ]
  },
  {
   "cell_type": "code",
   "execution_count": 8,
   "id": "49b1a925",
   "metadata": {},
   "outputs": [
    {
     "data": {
      "text/plain": [
       "0.97783935"
      ]
     },
     "execution_count": 8,
     "metadata": {},
     "output_type": "execute_result"
    }
   ],
   "source": [
    "max(similarityScores) #max of en-hi"
   ]
  },
  {
   "cell_type": "code",
   "execution_count": 9,
   "id": "39b9bd77",
   "metadata": {},
   "outputs": [
    {
     "data": {
      "text/plain": [
       "-0.055744313"
      ]
     },
     "execution_count": 9,
     "metadata": {},
     "output_type": "execute_result"
    }
   ],
   "source": [
    "min(similarityScores) #min en-hi"
   ]
  },
  {
   "cell_type": "code",
   "execution_count": 10,
   "id": "6714a7a1",
   "metadata": {},
   "outputs": [],
   "source": [
    "with open('labse_cosine_en_te_150000.txt', 'w') as file:\n",
    "    file.write('\\n'.join(str(a) for a in similarityScores))"
   ]
  },
  {
   "cell_type": "code",
   "execution_count": 40,
   "id": "6eb4b26a",
   "metadata": {},
   "outputs": [
    {
     "name": "stdout",
     "output_type": "stream",
     "text": [
      "len: 1000\n"
     ]
    }
   ],
   "source": [
    "with open(\"bleu-trans_te(en1)_en_0_1000.txt.txt\",\"r\") as f:\n",
    "    print(\"len:\", len(f.readlines()))  # This would give length of files.\n"
   ]
  },
  {
   "cell_type": "code",
   "execution_count": null,
   "id": "66d4153b",
   "metadata": {},
   "outputs": [],
   "source": []
  }
 ],
 "metadata": {
  "kernelspec": {
   "display_name": "Python 3 (ipykernel)",
   "language": "python",
   "name": "python3"
  },
  "language_info": {
   "codemirror_mode": {
    "name": "ipython",
    "version": 3
   },
   "file_extension": ".py",
   "mimetype": "text/x-python",
   "name": "python",
   "nbconvert_exporter": "python",
   "pygments_lexer": "ipython3",
   "version": "3.9.9"
  }
 },
 "nbformat": 4,
 "nbformat_minor": 5
}
