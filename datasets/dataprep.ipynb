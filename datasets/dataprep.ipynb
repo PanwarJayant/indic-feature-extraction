{
 "cells": [
  {
   "cell_type": "code",
   "execution_count": 1,
   "metadata": {},
   "outputs": [],
   "source": [
    "import pandas as pd"
   ]
  },
  {
   "cell_type": "markdown",
   "metadata": {},
   "source": [
    "### Load Samananthar En-Hi Dataset"
   ]
  },
  {
   "cell_type": "code",
   "execution_count": 2,
   "metadata": {},
   "outputs": [],
   "source": [
    "with open(\"../dump_en-te/IRE major project/Large_100000_dump/English_100000.txt\", mode='rt', encoding='utf-8') as file:\n",
    "  eng_text = file.readlines()\n",
    "  eng_text = [text.strip(\"\\n\") for text in eng_text]\n",
    "with open(\"../dump_en-te/IRE major project/Large_100000_dump/Telugu_100000.txt\", mode='rt', encoding='utf-8') as file:\n",
    "  indic_text = file.readlines()\n",
    "  indic_text = [text.strip(\"\\n\") for text in indic_text]\n",
    "# with open(\"../en-hi_dump/dumphi2_lakh.txt\", mode='rt', encoding='utf-8') as file:\n",
    "#   indic2_text = file.readlines()\n",
    "#   indic2_text = [text.strip(\"\\n\") for text in indic2_text]"
   ]
  },
  {
   "cell_type": "markdown",
   "metadata": {},
   "source": [
    "### Build Training(70%) & Testing(30%) Data"
   ]
  },
  {
   "cell_type": "code",
   "execution_count": 3,
   "metadata": {},
   "outputs": [],
   "source": [
    "eng_test_text = eng_text[:1000:]\n",
    "eng_train_text = eng_text[1000:6000:]"
   ]
  },
  {
   "cell_type": "code",
   "execution_count": 4,
   "metadata": {},
   "outputs": [],
   "source": [
    "indic_test_text = indic_text[:1000:]\n",
    "indic_train_text = indic_text[1000:6000:]"
   ]
  },
  {
   "cell_type": "code",
   "execution_count": 5,
   "metadata": {},
   "outputs": [
    {
     "name": "stdout",
     "output_type": "stream",
     "text": [
      "If I say, I will not make mention of him, nor speak any more in his name, then there is in my heart as it were a burning fire shut up in my bones, and I am weary with forbearing, and I can't.\n",
      "ఆయన పేరు నేనెత్తను, ఆయన నామమును బట్టి ప్రకటింపను, అని నేనను కొంటినా? అది నా హృద యములో అగ్నివలె మండుచు నా యెముకలలోనే మూయబడియున్నట్లున్నది. నేను ఓర్చి యోర్చి విసికి యున్నాను, చెప్పక మానలేదు.\n"
     ]
    }
   ],
   "source": [
    "# indic2_test_text = indic2_text[:1000:]\n",
    "# indic2_train_text = indic2_text[1000:6000:]\n",
    "print(eng_test_text[0])\n",
    "print(indic_test_text[0])"
   ]
  },
  {
   "cell_type": "markdown",
   "metadata": {},
   "source": [
    "### Prepping and Saving Datasets"
   ]
  },
  {
   "cell_type": "code",
   "execution_count": 6,
   "metadata": {},
   "outputs": [],
   "source": [
    "train_data = []\n",
    "test_data = []\n",
    "# train2_data = []\n",
    "# test2_data = []\n",
    "\n",
    "for indic, english in zip(indic_train_text, eng_train_text):\n",
    "  train_data.append([\"translate indic to english\", indic, english])\n",
    "  train_data.append([\"translate english to indic\", english, indic])\n",
    "\n",
    "for indic, english in zip(indic_test_text, eng_test_text):\n",
    "  test_data.append([\"translate indic to english\", indic, english])\n",
    "  test_data.append([\"translate english to indic\", english, indic])\n",
    "\n",
    "# for indic2, english in zip(indic2_train_text, eng_train_text):\n",
    "#   train2_data.append([\"translate indic to english\", indic2, english])\n",
    "#   train2_data.append([\"translate english to indic\", english, indic2])\n",
    "\n",
    "# for indic2, english in zip(indic2_test_text, eng_test_text):\n",
    "#   test2_data.append([\"translate indic to english\", indic2, english])\n",
    "#   test2_data.append([\"translate english to indic\", english, indic2])\n"
   ]
  },
  {
   "cell_type": "code",
   "execution_count": 7,
   "metadata": {},
   "outputs": [],
   "source": [
    "train_df = pd.DataFrame(train_data, columns=[\"prefix\", \"input_text\", \"target_text\"])\n",
    "test_df = pd.DataFrame(test_data, columns=[\"prefix\", \"input_text\", \"target_text\"])\n",
    "# train2_df = pd.DataFrame(train2_data, columns=[\"prefix\", \"input_text\", \"target_text\"])\n",
    "# test2_df = pd.DataFrame(test2_data, columns=[\"prefix\", \"input_text\", \"target_text\"])"
   ]
  },
  {
   "cell_type": "code",
   "execution_count": 9,
   "metadata": {},
   "outputs": [],
   "source": [
    "train_df.to_csv(\"../modeldatas-te/final1_train.tsv\", sep=\"\\t\")\n",
    "test_df.to_csv(\"../modeldatas-te/final1_test.tsv\", sep=\"\\t\")\n",
    "# train2_df.to_csv(\"final2_train.tsv\", sep=\"\\t\")\n",
    "# test2_df.to_csv(\"final2_test.tsv\", sep=\"\\t\")"
   ]
  }
 ],
 "metadata": {
  "kernelspec": {
   "display_name": "Python 3.8.10 64-bit",
   "language": "python",
   "name": "python3"
  },
  "language_info": {
   "codemirror_mode": {
    "name": "ipython",
    "version": 3
   },
   "file_extension": ".py",
   "mimetype": "text/x-python",
   "name": "python",
   "nbconvert_exporter": "python",
   "pygments_lexer": "ipython3",
   "version": "3.8.10"
  },
  "orig_nbformat": 4,
  "vscode": {
   "interpreter": {
    "hash": "767d51c1340bd893661ea55ea3124f6de3c7a262a8b4abca0554b478b1e2ff90"
   }
  }
 },
 "nbformat": 4,
 "nbformat_minor": 2
}
